{
 "cells": [
  {
   "cell_type": "code",
   "execution_count": 1,
   "metadata": {
    "ExecuteTime": {
     "end_time": "2020-07-23T22:10:21.339157Z",
     "start_time": "2020-07-23T22:10:21.307911Z"
    }
   },
   "outputs": [],
   "source": [
    "%load_ext autoreload\n",
    "%autoreload 2"
   ]
  },
  {
   "cell_type": "code",
   "execution_count": 2,
   "metadata": {
    "ExecuteTime": {
     "end_time": "2020-07-23T22:10:21.577496Z",
     "start_time": "2020-07-23T22:10:21.339157Z"
    }
   },
   "outputs": [],
   "source": [
    "from contexttimer import Timer\n",
    "import math\n",
    "import matplotlib.pyplot as plt\n",
    "import numpy\n",
    "import typing as tp"
   ]
  },
  {
   "cell_type": "code",
   "execution_count": 3,
   "metadata": {
    "ExecuteTime": {
     "end_time": "2020-07-23T22:10:21.624373Z",
     "start_time": "2020-07-23T22:10:21.577496Z"
    }
   },
   "outputs": [],
   "source": [
    "%matplotlib inline"
   ]
  },
  {
   "cell_type": "markdown",
   "metadata": {},
   "source": [
    "# Importing Cocos and Selecting a Device"
   ]
  },
  {
   "cell_type": "markdown",
   "metadata": {},
   "source": [
    "## Importing Cocos"
   ]
  },
  {
   "cell_type": "markdown",
   "metadata": {},
   "source": [
    "Import Cocos numerics API which offers a NumPy like API"
   ]
  },
  {
   "cell_type": "code",
   "execution_count": 4,
   "metadata": {
    "ExecuteTime": {
     "end_time": "2020-07-23T22:10:23.128350Z",
     "start_time": "2020-07-23T22:10:21.624373Z"
    }
   },
   "outputs": [],
   "source": [
    "import cocos.numerics as cn"
   ]
  },
  {
   "cell_type": "markdown",
   "metadata": {},
   "source": [
    "Import the Cocos device management module"
   ]
  },
  {
   "cell_type": "code",
   "execution_count": 5,
   "metadata": {
    "ExecuteTime": {
     "end_time": "2020-07-23T22:10:23.181809Z",
     "start_time": "2020-07-23T22:10:23.128350Z"
    }
   },
   "outputs": [],
   "source": [
    "import cocos.device as cd"
   ]
  },
  {
   "cell_type": "markdown",
   "metadata": {},
   "source": [
    "## Choosing a Backend (Optional)"
   ]
  },
  {
   "cell_type": "markdown",
   "metadata": {},
   "source": [
    "Cocos supports execution on CUDA, OpenCL, or the CPU itself. The most appropriate backend is typically selected automatically. But the desired backend architecture can be specified explitly via `cd.init(backend)`, where backend is one of `cpu`, `cuda`, or `opencl`."
   ]
  },
  {
   "cell_type": "code",
   "execution_count": 6,
   "metadata": {
    "ExecuteTime": {
     "end_time": "2020-07-23T22:10:23.228571Z",
     "start_time": "2020-07-23T22:10:23.181809Z"
    }
   },
   "outputs": [],
   "source": [
    "cd.init(backend=None)"
   ]
  },
  {
   "cell_type": "markdown",
   "metadata": {},
   "source": [
    "## Selecting Compute Devices"
   ]
  },
  {
   "cell_type": "markdown",
   "metadata": {},
   "source": [
    "### To simply list all available compute devices we can use `cd.info()`"
   ]
  },
  {
   "cell_type": "code",
   "execution_count": 7,
   "metadata": {
    "ExecuteTime": {
     "end_time": "2020-07-23T22:10:23.282096Z",
     "start_time": "2020-07-23T22:10:23.228571Z"
    }
   },
   "outputs": [
    {
     "name": "stdout",
     "output_type": "stream",
     "text": [
      "Cocos running on ArrayFire v3.6.4 (CUDA 64bit)\n",
      "[0] v10.0: GeForce GTX 1060 6GB | CUDA | compute version 6.1\n",
      "-1- v10.0: GeForce GTX 1060 6GB | CUDA | compute version 6.1\n"
     ]
    }
   ],
   "source": [
    "cd.info()"
   ]
  },
  {
   "cell_type": "markdown",
   "metadata": {},
   "source": [
    "This computer has both a discrete AMD Radeon chip as well as a graphics unit integrated into the Intel CPU, both of which support OpenCL and can be used with Cocos."
   ]
  },
  {
   "cell_type": "markdown",
   "metadata": {},
   "source": [
    "### To query and select GPU devices programatically we use the `ComputeDeviceManager`"
   ]
  },
  {
   "cell_type": "code",
   "execution_count": 8,
   "metadata": {
    "ExecuteTime": {
     "end_time": "2020-07-23T22:10:23.328885Z",
     "start_time": "2020-07-23T22:10:23.282096Z"
    }
   },
   "outputs": [
    {
     "name": "stdout",
     "output_type": "stream",
     "text": [
      "0: GeForce_GTX_1060_6GB | CUDA - v10.0 | compute version 6.1\n",
      "1: GeForce_GTX_1060_6GB | CUDA - v10.0 | compute version 6.1\n"
     ]
    }
   ],
   "source": [
    "all_compute_devices = cd.ComputeDeviceManager.get_compute_devices()\n",
    "for compute_device in all_compute_devices:\n",
    "    print(compute_device)"
   ]
  },
  {
   "cell_type": "markdown",
   "metadata": {},
   "source": [
    "### If a discrete GPU is present we usually want to work on this one rather than the integrated GPU which is typically much less powerful."
   ]
  },
  {
   "cell_type": "code",
   "execution_count": 9,
   "metadata": {
    "ExecuteTime": {
     "end_time": "2020-07-23T22:10:23.382333Z",
     "start_time": "2020-07-23T22:10:23.328885Z"
    }
   },
   "outputs": [
    {
     "name": "stdout",
     "output_type": "stream",
     "text": [
      "0: GeForce_GTX_1060_6GB | CUDA - v10.0 | compute version 6.1\n",
      "1: GeForce_GTX_1060_6GB | CUDA - v10.0 | compute version 6.1\n"
     ]
    }
   ],
   "source": [
    "discrete_compute_devices = list(filter(lambda x: 'intel' not in x.name.lower(), \n",
    "                               cd.ComputeDeviceManager.get_compute_devices()))\n",
    "\n",
    "for compute_device in discrete_compute_devices:\n",
    "    print(compute_device)"
   ]
  },
  {
   "cell_type": "markdown",
   "metadata": {},
   "source": [
    "### We can set the active compute device either by id ..."
   ]
  },
  {
   "cell_type": "code",
   "execution_count": 10,
   "metadata": {
    "ExecuteTime": {
     "end_time": "2020-07-23T22:10:23.429122Z",
     "start_time": "2020-07-23T22:10:23.382333Z"
    }
   },
   "outputs": [
    {
     "name": "stdout",
     "output_type": "stream",
     "text": [
      "Cocos running on ArrayFire v3.6.4 (CUDA 64bit)\n",
      "-0- v10.0: GeForce GTX 1060 6GB | CUDA | compute version 6.1\n",
      "[1] v10.0: GeForce GTX 1060 6GB | CUDA | compute version 6.1\n"
     ]
    }
   ],
   "source": [
    "cd.ComputeDeviceManager.set_compute_device(len(all_compute_devices) - 1)\n",
    "cd.info()"
   ]
  },
  {
   "cell_type": "markdown",
   "metadata": {},
   "source": [
    "### ... or via a compute device object"
   ]
  },
  {
   "cell_type": "code",
   "execution_count": 11,
   "metadata": {
    "ExecuteTime": {
     "end_time": "2020-07-23T22:10:23.482552Z",
     "start_time": "2020-07-23T22:10:23.429122Z"
    }
   },
   "outputs": [
    {
     "name": "stdout",
     "output_type": "stream",
     "text": [
      "Cocos running on ArrayFire v3.6.4 (CUDA 64bit)\n",
      "[0] v10.0: GeForce GTX 1060 6GB | CUDA | compute version 6.1\n",
      "-1- v10.0: GeForce GTX 1060 6GB | CUDA | compute version 6.1\n"
     ]
    }
   ],
   "source": [
    "cd.ComputeDeviceManager.set_compute_device(discrete_compute_devices[0])\n",
    "cd.info()"
   ]
  },
  {
   "cell_type": "markdown",
   "metadata": {},
   "source": [
    "# First Steps"
   ]
  },
  {
   "cell_type": "markdown",
   "metadata": {},
   "source": [
    "### Create a 2x2 matrix from nested lists"
   ]
  },
  {
   "cell_type": "code",
   "execution_count": 12,
   "metadata": {
    "ExecuteTime": {
     "end_time": "2020-07-23T22:10:23.645301Z",
     "start_time": "2020-07-23T22:10:23.482552Z"
    }
   },
   "outputs": [
    {
     "name": "stdout",
     "output_type": "stream",
     "text": [
      "[[1. 2.]\n",
      " [3. 4.]]\n"
     ]
    }
   ],
   "source": [
    "a = cn.array([[1.0, 2.0], [3.0, 4.0]])\n",
    "print(a)"
   ]
  },
  {
   "cell_type": "markdown",
   "metadata": {},
   "source": [
    "### Create a 2x1 vector from nested lists"
   ]
  },
  {
   "cell_type": "code",
   "execution_count": 13,
   "metadata": {
    "ExecuteTime": {
     "end_time": "2020-07-23T22:10:23.698770Z",
     "start_time": "2020-07-23T22:10:23.645301Z"
    }
   },
   "outputs": [
    {
     "name": "stdout",
     "output_type": "stream",
     "text": [
      "[5. 6.]\n"
     ]
    }
   ],
   "source": [
    "b = cn.array([[5.0], [6.0]])\n",
    "print(b)"
   ]
  },
  {
   "cell_type": "markdown",
   "metadata": {},
   "source": [
    "### Matrix product of b and a"
   ]
  },
  {
   "cell_type": "code",
   "execution_count": 14,
   "metadata": {
    "ExecuteTime": {
     "end_time": "2020-07-23T22:10:23.883694Z",
     "start_time": "2020-07-23T22:10:23.698770Z"
    }
   },
   "outputs": [
    {
     "name": "stdout",
     "output_type": "stream",
     "text": [
      "[17. 39.]\n"
     ]
    }
   ],
   "source": [
    "c = a @ b\n",
    "print(c)"
   ]
  },
  {
   "cell_type": "markdown",
   "metadata": {},
   "source": [
    "### Create an array of normally distributed random numbers"
   ]
  },
  {
   "cell_type": "code",
   "execution_count": 15,
   "metadata": {
    "ExecuteTime": {
     "end_time": "2020-07-23T22:10:23.930552Z",
     "start_time": "2020-07-23T22:10:23.883694Z"
    }
   },
   "outputs": [
    {
     "name": "stdout",
     "output_type": "stream",
     "text": [
      "[[1.74057    0.481135  ]\n",
      " [0.14043704 0.82822126]]\n"
     ]
    }
   ],
   "source": [
    "d = cn.random.randn(2, 2)\n",
    "print(d)"
   ]
  },
  {
   "cell_type": "markdown",
   "metadata": {},
   "source": [
    "# Application: Estimating $\\pi$ via Monte-Carlo"
   ]
  },
  {
   "cell_type": "markdown",
   "metadata": {},
   "source": [
    "The following function takes advantage of the fact that Cocos mimics NumPy's API. It imports the numerical package to use based on the parameter `gpu` and can use the same exact code for both CPU and GPU calculations."
   ]
  },
  {
   "cell_type": "code",
   "execution_count": 16,
   "metadata": {
    "ExecuteTime": {
     "end_time": "2020-07-23T22:10:23.984002Z",
     "start_time": "2020-07-23T22:10:23.930552Z"
    }
   },
   "outputs": [],
   "source": [
    "import time\n",
    "import cocos.device as cd\n",
    "\n",
    "def estimate_pi(n: int, gpu: bool = True) -> float:\n",
    "    if gpu:\n",
    "        import cocos.numerics as np\n",
    "        import cocos.numerics.random as random\n",
    "    else:\n",
    "        import numpy as np\n",
    "        import numpy.random as random\n",
    "\n",
    "    x = np.random.rand(n)\n",
    "    y = np.random.rand(n)\n",
    "    in_quarter_circle = (x * x + y * y) <= 1.0\n",
    "    estimate = int(np.sum(in_quarter_circle))\n",
    "\n",
    "    return estimate / n * 4"
   ]
  },
  {
   "cell_type": "markdown",
   "metadata": {
    "ExecuteTime": {
     "end_time": "2020-07-12T03:16:07.229419Z",
     "start_time": "2020-07-12T03:15:34.870233Z"
    }
   },
   "source": [
    "Print information regarding the available devices in the machine"
   ]
  },
  {
   "cell_type": "code",
   "execution_count": 17,
   "metadata": {
    "ExecuteTime": {
     "end_time": "2020-07-23T22:10:24.030759Z",
     "start_time": "2020-07-23T22:10:23.984002Z"
    }
   },
   "outputs": [
    {
     "name": "stdout",
     "output_type": "stream",
     "text": [
      "Cocos running on ArrayFire v3.6.4 (CUDA 64bit)\n",
      "[0] v10.0: GeForce GTX 1060 6GB | CUDA | compute version 6.1\n",
      "-1- v10.0: GeForce GTX 1060 6GB | CUDA | compute version 6.1\n"
     ]
    }
   ],
   "source": [
    "cd.info()"
   ]
  },
  {
   "cell_type": "markdown",
   "metadata": {},
   "source": [
    "Set the number of Monte-Carlo replications"
   ]
  },
  {
   "cell_type": "code",
   "execution_count": 18,
   "metadata": {
    "ExecuteTime": {
     "end_time": "2020-07-23T22:10:24.084236Z",
     "start_time": "2020-07-23T22:10:24.030759Z"
    }
   },
   "outputs": [],
   "source": [
    "n = 100000000"
   ]
  },
  {
   "cell_type": "markdown",
   "metadata": {},
   "source": [
    "First, run the estimation of $\\pi$ on the CPU via NumPy"
   ]
  },
  {
   "cell_type": "code",
   "execution_count": 19,
   "metadata": {
    "ExecuteTime": {
     "end_time": "2020-07-23T22:10:25.873039Z",
     "start_time": "2020-07-23T22:10:24.084236Z"
    }
   },
   "outputs": [
    {
     "name": "stdout",
     "output_type": "stream",
     "text": [
      "Estimate of Pi on cpu: 3.14155992\n"
     ]
    }
   ],
   "source": [
    "pi_cpu = estimate_pi(n, gpu=False)\n",
    "print(f'Estimate of Pi on cpu: {pi_cpu}')"
   ]
  },
  {
   "cell_type": "markdown",
   "metadata": {},
   "source": [
    "Now use Cocos to run the same code on the GPU"
   ]
  },
  {
   "cell_type": "code",
   "execution_count": 20,
   "metadata": {
    "ExecuteTime": {
     "end_time": "2020-07-23T22:10:26.083936Z",
     "start_time": "2020-07-23T22:10:25.873039Z"
    }
   },
   "outputs": [
    {
     "name": "stdout",
     "output_type": "stream",
     "text": [
      "Estimate of Pi on gpu: 3.14149676\n"
     ]
    }
   ],
   "source": [
    "pi_gpu = estimate_pi(n, gpu=True)\n",
    "print(f'Estimate of Pi on gpu: {pi_gpu}')"
   ]
  },
  {
   "cell_type": "markdown",
   "metadata": {},
   "source": [
    "Run a benchmark - repeating the simulation R times on both cpu and gpu"
   ]
  },
  {
   "cell_type": "code",
   "execution_count": 21,
   "metadata": {
    "ExecuteTime": {
     "end_time": "2020-07-23T22:10:43.289949Z",
     "start_time": "2020-07-23T22:10:26.083936Z"
    }
   },
   "outputs": [
    {
     "name": "stdout",
     "output_type": "stream",
     "text": [
      "time elapsed on gpu: 0.12348850000000056\n",
      "time elapsed on cpu: 17.0264873\n",
      "speedup factor on gpu: 137.8791328747205\n"
     ]
    }
   ],
   "source": [
    "R = 10\n",
    "\n",
    "# on gpu\n",
    "tic = time.time()\n",
    "with Timer() as gpu_timer:\n",
    "    for r in range(R):\n",
    "        pi_gpu = estimate_pi(n, gpu=True)\n",
    "        cd.sync()\n",
    "\n",
    "print(f'time elapsed on gpu: {gpu_timer.elapsed}')\n",
    "\n",
    "# on cpu\n",
    "with Timer() as cpu_timer:\n",
    "    for r in range(R):\n",
    "        pi_cpu = estimate_pi(n, gpu=False)\n",
    "\n",
    "print(f'time elapsed on cpu: {cpu_timer.elapsed}')\n",
    "\n",
    "# compute and print the speedup factor\n",
    "print(f'speedup factor on gpu: {cpu_timer.elapsed/gpu_timer.elapsed}')"
   ]
  },
  {
   "cell_type": "markdown",
   "metadata": {},
   "source": [
    "# Application: Quantifying Risk in a Stochastic Volatility Model via Simulation"
   ]
  },
  {
   "cell_type": "markdown",
   "metadata": {
    "ExecuteTime": {
     "end_time": "2020-07-12T03:35:16.261694Z",
     "start_time": "2020-07-12T03:35:16.228431Z"
    }
   },
   "source": [
    "We are modeling the log price of an equity index using Heston's classical 1992 stochastic volatility. \n",
    "\n",
    "The log price ($x$) and its instantanous variance ($V$) are governed by the following system of stochastic differential equations (SDE):\n",
    "\n",
    "$\n",
    "d x_t = \\left( \\mu - \\frac{1}{2} \\sqrt{V_t} \\right) dt + \\sqrt{V_t} dB_{1, t}\n",
    "$\n",
    "\n",
    "$\n",
    "d V_t = \\kappa \\left( \\bar{V} - V_t \\right) dt + \\sigma_V \\sqrt{V_t} \\left( \\rho d B_{1, t} + \\sqrt{1 - \\rho^2} d B_{2, t} \\right)\n",
    "$\n",
    "\n",
    "\n",
    "In this setup, $\\mu$ denotes the instantaneously expected return of the equity index. $V$ is a mean reverting square root diffusion with target $\\bar{V}$, mean-reversion speed $\\kappa$, and volatility of volatility $\\sigma_v$. The instantaneous correlation between innovations to the log price and the volatility process is $\\rho$.\n",
    "\n",
    "In this example, we are simulating sample paths via a (first-order) Euler–Maruyama discretization with time step $\\Delta t$. In practice, one would use a higher order method or apply a Doss transformation.\n",
    "\n",
    "The dynamics of the discretized process are  \n",
    "\n",
    "$\n",
    "x_t = x_{t-1} + \\left( \\mu - \\frac{1}{2} \\sqrt{V_{t-1}} \\right) \\Delta t + \\sqrt{V_{t-1}} \\sqrt{\\Delta t} \\epsilon_{x, t}\n",
    "$\n",
    "\n",
    "$\n",
    "V_t = V_{t-1} + \\kappa \\left( \\bar{V} - V_{t-1} \\right) \\Delta t + \\sigma_V \\sqrt{V_{t-1}} \\sqrt{\\Delta t}  \\left( \\rho \\epsilon_{x, t} + \\sqrt{1 - \\rho^2} \\epsilon_{V, t} \\right),\n",
    "$\n",
    "\n",
    "where $\\{\\epsilon_{x, t}, \\epsilon_{V, t}\\}_{t=0}^{T \\Delta t}$ is an i.i.d. sequence of concorrelated bivariate standard normal distributions."
   ]
  },
  {
   "cell_type": "markdown",
   "metadata": {},
   "source": [
    "## Simulation Code"
   ]
  },
  {
   "cell_type": "markdown",
   "metadata": {},
   "source": [
    "We are using the Cocos convenience function `randn_antithetic` to generate arrays of antithetic standard normal random variables."
   ]
  },
  {
   "cell_type": "code",
   "execution_count": 22,
   "metadata": {
    "ExecuteTime": {
     "end_time": "2020-07-23T22:10:43.393727Z",
     "start_time": "2020-07-23T22:10:43.289949Z"
    }
   },
   "outputs": [],
   "source": [
    "from cocos.numerics.random import randn_antithetic"
   ]
  },
  {
   "cell_type": "code",
   "execution_count": 23,
   "metadata": {
    "ExecuteTime": {
     "end_time": "2020-07-23T22:10:43.447127Z",
     "start_time": "2020-07-23T22:10:43.393727Z"
    }
   },
   "outputs": [],
   "source": [
    "def simulate_heston_model(T: float,\n",
    "                          N: int,\n",
    "                          R: int,\n",
    "                          mu: float,\n",
    "                          kappa: float,\n",
    "                          v_bar: float,\n",
    "                          sigma_v: float,\n",
    "                          rho: float,\n",
    "                          x0: float,\n",
    "                          v0: float,\n",
    "                          gpu: bool = False):\n",
    "    if gpu:\n",
    "        import cocos.numerics as np\n",
    "        import cocos.numerics.random as random\n",
    "    else:\n",
    "        import numpy as np\n",
    "        import numpy.random as random\n",
    "\n",
    "    Delta_t = T / float(N - 1)\n",
    "\n",
    "    x = [np.full((R,), x0, dtype=numpy.float32),\n",
    "         np.zeros((R,), dtype=numpy.float32)]\n",
    "\n",
    "    v = [np.full((R,), v0, dtype=numpy.float32),\n",
    "         np.zeros((R,), dtype=numpy.float32)]\n",
    "\n",
    "    sqrt_delta_t = math.sqrt(Delta_t)\n",
    "    sqrt_one_minus_rho_square = math.sqrt(1 - rho ** 2)\n",
    "\n",
    "    m = np.zeros((2,), dtype=numpy.float32)\n",
    "    m[0] = rho\n",
    "    m[1] = sqrt_one_minus_rho_square\n",
    "    zero_array = np.zeros((R,), dtype=numpy.float32)\n",
    "\n",
    "    t_current = 0\n",
    "    for t in range(1, N):\n",
    "        t_previous = (t + 1) % 2\n",
    "        t_current = t % 2\n",
    "\n",
    "        # generate antithetic standard normal random variables\n",
    "        dBt = randn_antithetic(shape=(R, 2),\n",
    "                               antithetic_dimension=0,\n",
    "                               num_pack=np) * sqrt_delta_t\n",
    "\n",
    "        sqrt_v_lag = np.sqrt(v[t_previous])\n",
    "        x[t_current] = x[t_previous] \\\n",
    "                     + (mu - 0.5 * v[t_previous]) * Delta_t \\\n",
    "                     + np.multiply(sqrt_v_lag, dBt[:, 0])\n",
    "        v[t_current] = v[t_previous] \\\n",
    "                     + kappa * (v_bar - v[t_previous]) * Delta_t \\\n",
    "                     + sigma_v * np.multiply(sqrt_v_lag, np.dot(dBt, m))\n",
    "        v[t_current] = np.maximum(v[t_current], numpy.finfo(numpy.float32).eps)\n",
    "\n",
    "    x = x[t_current]\n",
    "    v = np.maximum(v[t_current], numpy.finfo(numpy.float32).eps)\n",
    "\n",
    "    return x, v"
   ]
  },
  {
   "cell_type": "markdown",
   "metadata": {},
   "source": [
    "## Parameters"
   ]
  },
  {
   "cell_type": "markdown",
   "metadata": {},
   "source": [
    "Model Parameters"
   ]
  },
  {
   "cell_type": "code",
   "execution_count": 24,
   "metadata": {
    "ExecuteTime": {
     "end_time": "2020-07-23T22:10:43.516183Z",
     "start_time": "2020-07-23T22:10:43.447127Z"
    }
   },
   "outputs": [],
   "source": [
    "x0 = 0.0  # initial log stock price\n",
    "v0 = 0.101 ** 2  # initial volatility\n",
    "r = math.log(1.0319)  # risk-free rate\n",
    "rho = -0.7  # instantaneous correlation between Brownian motions\n",
    "sigma_v = 0.61  # variance of volatility\n",
    "kappa = 6.21  # mean reversion speed\n",
    "v_bar = 0.019  # mean variance"
   ]
  },
  {
   "cell_type": "markdown",
   "metadata": {},
   "source": [
    "Time Horizon"
   ]
  },
  {
   "cell_type": "code",
   "execution_count": 25,
   "metadata": {
    "ExecuteTime": {
     "end_time": "2020-07-23T22:10:43.563009Z",
     "start_time": "2020-07-23T22:10:43.516183Z"
    }
   },
   "outputs": [],
   "source": [
    "T = 1.0"
   ]
  },
  {
   "cell_type": "markdown",
   "metadata": {},
   "source": [
    "Simulation Parameters"
   ]
  },
  {
   "cell_type": "code",
   "execution_count": 26,
   "metadata": {
    "ExecuteTime": {
     "end_time": "2020-07-23T22:10:43.616459Z",
     "start_time": "2020-07-23T22:10:43.563009Z"
    }
   },
   "outputs": [],
   "source": [
    "nT = int(math.ceil(500 * T))  # number of time-steps to simulate\n",
    "R = 1000000  # actual number of paths to simulate for pricing"
   ]
  },
  {
   "cell_type": "markdown",
   "metadata": {},
   "source": [
    "## Run Code on CPU and GPU"
   ]
  },
  {
   "cell_type": "markdown",
   "metadata": {},
   "source": [
    "Simulate one path to compile GPU kernels"
   ]
  },
  {
   "cell_type": "code",
   "execution_count": 27,
   "metadata": {
    "ExecuteTime": {
     "end_time": "2020-07-23T22:10:45.640903Z",
     "start_time": "2020-07-23T22:10:43.616459Z"
    }
   },
   "outputs": [
    {
     "data": {
      "text/plain": [
       "(array([-0.0916823 ,  0.13830945], dtype=float32),\n",
       " array([0.05445173, 0.00223316], dtype=float32))"
      ]
     },
     "execution_count": 27,
     "metadata": {},
     "output_type": "execute_result"
    }
   ],
   "source": [
    "simulate_heston_model(T=T,\n",
    "                      N=nT,\n",
    "                      R=2, \n",
    "                      mu=r, \n",
    "                      kappa=kappa, \n",
    "                      v_bar=v_bar, \n",
    "                      sigma_v=sigma_v, \n",
    "                      rho=rho, \n",
    "                      x0=x0, \n",
    "                      v0=v0, \n",
    "                      gpu=True)\n"
   ]
  },
  {
   "cell_type": "code",
   "execution_count": 28,
   "metadata": {
    "ExecuteTime": {
     "end_time": "2020-07-23T22:10:50.279727Z",
     "start_time": "2020-07-23T22:10:45.640903Z"
    }
   },
   "outputs": [],
   "source": [
    "with Timer() as heston_gpu_timer:\n",
    "    x_simulated_gpu, v_simulated_gpu \\\n",
    "        = simulate_heston_model(T=T,\n",
    "                                N=nT,\n",
    "                                R=R,\n",
    "                                mu=r,\n",
    "                                kappa=kappa,\n",
    "                                v_bar=v_bar,\n",
    "                                sigma_v=sigma_v,\n",
    "                                rho=rho,\n",
    "                                x0=x0,\n",
    "                                v0=v0,\n",
    "                                gpu=True)\n",
    "    \n",
    "    # Force Cocos to evaluate the code\n",
    "    cd.sync()"
   ]
  },
  {
   "cell_type": "code",
   "execution_count": 29,
   "metadata": {
    "ExecuteTime": {
     "end_time": "2020-07-23T22:11:06.684818Z",
     "start_time": "2020-07-23T22:10:50.281757Z"
    }
   },
   "outputs": [],
   "source": [
    "with Timer() as heston_cpu_timer:\n",
    "    x_simulated_cpu, v_simulated_cpu \\\n",
    "        = simulate_heston_model(T=T,\n",
    "                                N=nT,\n",
    "                                R=R,\n",
    "                                mu=r,\n",
    "                                kappa=kappa,\n",
    "                                v_bar=v_bar,\n",
    "                                sigma_v=sigma_v,\n",
    "                                rho=rho,\n",
    "                                x0=x0,\n",
    "                                v0=v0,\n",
    "                                gpu=False)"
   ]
  },
  {
   "cell_type": "code",
   "execution_count": 30,
   "metadata": {
    "ExecuteTime": {
     "end_time": "2020-07-23T22:11:06.724939Z",
     "start_time": "2020-07-23T22:11:06.684818Z"
    }
   },
   "outputs": [
    {
     "name": "stdout",
     "output_type": "stream",
     "text": [
      "GPU speedup: 3.5665712172721933\n"
     ]
    }
   ],
   "source": [
    "print(f'GPU speedup: {heston_cpu_timer.elapsed/heston_gpu_timer.elapsed}')"
   ]
  },
  {
   "cell_type": "markdown",
   "metadata": {},
   "source": [
    "## Kernel Density Estimation"
   ]
  },
  {
   "cell_type": "code",
   "execution_count": 31,
   "metadata": {
    "ExecuteTime": {
     "end_time": "2020-07-23T22:11:06.885424Z",
     "start_time": "2020-07-23T22:11:06.724939Z"
    }
   },
   "outputs": [],
   "source": [
    "from cocos.scientific.kde import (\n",
    "    gaussian_kde, \n",
    "    evaluate_gaussian_kde_in_batches, \n",
    "    gaussian_kernel_estimate_vectorized_whitened\n",
    ")"
   ]
  },
  {
   "cell_type": "code",
   "execution_count": 32,
   "metadata": {
    "ExecuteTime": {
     "end_time": "2020-07-23T22:11:07.001313Z",
     "start_time": "2020-07-23T22:11:06.885424Z"
    }
   },
   "outputs": [],
   "source": [
    "gaussian_kde_cpu = gaussian_kde(numpy.exp(x_simulated_cpu), gpu=False)"
   ]
  },
  {
   "cell_type": "code",
   "execution_count": 33,
   "metadata": {
    "ExecuteTime": {
     "end_time": "2020-07-23T22:11:07.156173Z",
     "start_time": "2020-07-23T22:11:07.001313Z"
    }
   },
   "outputs": [],
   "source": [
    "gaussian_kde_gpu = gaussian_kde(numpy.exp(x_simulated_gpu), gpu=True)"
   ]
  },
  {
   "cell_type": "markdown",
   "metadata": {},
   "source": [
    "Generate grid at which to evaluate the simulated equity index prices"
   ]
  },
  {
   "cell_type": "code",
   "execution_count": 34,
   "metadata": {
    "ExecuteTime": {
     "end_time": "2020-07-23T22:11:07.216351Z",
     "start_time": "2020-07-23T22:11:07.156173Z"
    }
   },
   "outputs": [],
   "source": [
    "grid_size = 1001\n",
    "grid = numpy.linspace(0, 2.0, grid_size)"
   ]
  },
  {
   "cell_type": "markdown",
   "metadata": {},
   "source": [
    "Plot CPU results"
   ]
  },
  {
   "cell_type": "code",
   "execution_count": 35,
   "metadata": {
    "ExecuteTime": {
     "end_time": "2020-07-23T22:11:28.955981Z",
     "start_time": "2020-07-23T22:11:07.216351Z"
    }
   },
   "outputs": [
    {
     "data": {
      "image/png": "[encoded data removed]",
      "text/plain": [
       "<Figure size 432x288 with 1 Axes>"
      ]
     },
     "metadata": {
      "needs_background": "light"
     },
     "output_type": "display_data"
    }
   ],
   "source": [
    "with Timer() as kde_cpu_timer:\n",
    "    kernel_density_estimate_cpu = gaussian_kde_cpu.evaluate(grid)\n",
    "\n",
    "plt.plot(grid, kernel_density_estimate_cpu, label='gaussian kernel density estimated using NumPy');"
   ]
  },
  {
   "cell_type": "code",
   "execution_count": 48,
   "metadata": {
    "ExecuteTime": {
     "end_time": "2020-07-23T22:12:16.888643Z",
     "start_time": "2020-07-23T22:12:15.575799Z"
    }
   },
   "outputs": [
    {
     "data": {
      "image/png": "[encoded data removed]",
      "text/plain": [
       "<Figure size 432x288 with 1 Axes>"
      ]
     },
     "metadata": {
      "needs_background": "light"
     },
     "output_type": "display_data"
    }
   ],
   "source": [
    "with Timer() as kde_gpu_timer:\n",
    "    kernel_density_estimate_gpu = \\\n",
    "        evaluate_gaussian_kde_in_batches(gaussian_kde_gpu, \n",
    "                                         points=numpy.atleast_2d(grid), \n",
    "                                         maximum_number_of_elements_per_batch=5000000)\n",
    "plt.plot(grid, kernel_density_estimate_gpu, label='gaussian kernel density estimated using Cocos');\n",
    "del kernel_density_estimate_gpu"
   ]
  },
  {
   "cell_type": "code",
   "execution_count": 49,
   "metadata": {
    "ExecuteTime": {
     "end_time": "2020-07-23T22:12:16.935510Z",
     "start_time": "2020-07-23T22:12:16.888643Z"
    }
   },
   "outputs": [
    {
     "name": "stdout",
     "output_type": "stream",
     "text": [
      "GPU speedup: 18.87170255901928\n"
     ]
    }
   ],
   "source": [
    "print(f'GPU speedup: {kde_cpu_timer.elapsed/kde_gpu_timer.elapsed}')"
   ]
  },
  {
   "cell_type": "code",
   "execution_count": 50,
   "metadata": {
    "ExecuteTime": {
     "end_time": "2020-07-23T22:12:18.240465Z",
     "start_time": "2020-07-23T22:12:16.935510Z"
    }
   },
   "outputs": [
    {
     "data": {
      "image/png": "[encoded data removed]",
      "text/plain": [
       "<Figure size 432x288 with 1 Axes>"
      ]
     },
     "metadata": {
      "needs_background": "light"
     },
     "output_type": "display_data"
    }
   ],
   "source": [
    "with Timer() as kde_gpu_timer:\n",
    "    kernel_density_estimate_gpu_2 = \\\n",
    "        gaussian_kde_gpu.evaluate_in_batches(points=numpy.atleast_2d(grid), \n",
    "                                             maximum_number_of_elements_per_batch=5000000)\n",
    "plt.plot(grid, kernel_density_estimate_gpu_2, label='gaussian kernel density estimated using Cocos');\n",
    "del kernel_density_estimate_gpu_2"
   ]
  },
  {
   "cell_type": "markdown",
   "metadata": {},
   "source": [
    "Multi-GPU Processing"
   ]
  },
  {
   "cell_type": "code",
   "execution_count": 52,
   "metadata": {
    "ExecuteTime": {
     "end_time": "2020-07-23T22:12:26.827476Z",
     "start_time": "2020-07-23T22:12:26.780612Z"
    }
   },
   "outputs": [],
   "source": [
    "from cocos.multi_processing.device_pool import (\n",
    "    ComputeDevicePool, \n",
    "    MultiprocessingPoolType\n",
    ")"
   ]
  },
  {
   "cell_type": "code",
   "execution_count": 53,
   "metadata": {
    "ExecuteTime": {
     "end_time": "2020-07-23T22:12:27.080707Z",
     "start_time": "2020-07-23T22:12:26.911898Z"
    }
   },
   "outputs": [
    {
     "data": {
      "text/plain": [
       "2"
      ]
     },
     "execution_count": 53,
     "metadata": {},
     "output_type": "execute_result"
    }
   ],
   "source": [
    "gpu_pool = ComputeDevicePool(multiprocessing_pool_type=MultiprocessingPoolType.LOKY)\n",
    "gpu_pool.number_of_devices"
   ]
  },
  {
   "cell_type": "code",
   "execution_count": 54,
   "metadata": {
    "ExecuteTime": {
     "end_time": "2020-07-23T22:12:27.864110Z",
     "start_time": "2020-07-23T22:12:27.080707Z"
    }
   },
   "outputs": [],
   "source": [
    "kernel_density_estimate_multi_gpu = \\\n",
    "    gaussian_kde_cpu.evaluate_in_batches_on_multiple_gpus(points=numpy.atleast_2d(grid),\n",
    "                                                          maximum_number_of_elements_per_batch=5000000, \n",
    "                                                          gpu_pool=gpu_pool)\n"
   ]
  },
  {
   "cell_type": "code",
   "execution_count": 55,
   "metadata": {
    "ExecuteTime": {
     "end_time": "2020-07-23T22:12:28.733514Z",
     "start_time": "2020-07-23T22:12:27.866146Z"
    }
   },
   "outputs": [
    {
     "data": {
      "image/png": "[encoded data removed]",
      "text/plain": [
       "<Figure size 432x288 with 1 Axes>"
      ]
     },
     "metadata": {
      "needs_background": "light"
     },
     "output_type": "display_data"
    }
   ],
   "source": [
    "with Timer() as kde_multi_gpu_timer:\n",
    "    kernel_density_estimate_multi_gpu = \\\n",
    "        gaussian_kde_cpu.evaluate_in_batches_on_multiple_gpus(points=numpy.atleast_2d(grid),\n",
    "                                                              maximum_number_of_elements_per_batch=5000000, \n",
    "                                                              gpu_pool=gpu_pool)\n",
    "plt.plot(grid, kernel_density_estimate_multi_gpu, label='gaussian kernel density estimated using Cocos');\n",
    "del kernel_density_estimate_multi_gpu"
   ]
  },
  {
   "cell_type": "code",
   "execution_count": 56,
   "metadata": {
    "ExecuteTime": {
     "end_time": "2020-07-23T22:12:28.794397Z",
     "start_time": "2020-07-23T22:12:28.735530Z"
    }
   },
   "outputs": [
    {
     "name": "stdout",
     "output_type": "stream",
     "text": [
      "Multi GPU vs CPU speedup: 30.755737120684064\n",
      "Multi GPU vs Single GPU speedup: 1.6405332626269957\n"
     ]
    }
   ],
   "source": [
    "print(f'Multi GPU vs CPU speedup: {kde_cpu_timer.elapsed/kde_multi_gpu_timer.elapsed}')\n",
    "print(f'Multi GPU vs Single GPU speedup: {kde_gpu_timer.elapsed/kde_multi_gpu_timer.elapsed}')"
   ]
  },
  {
   "cell_type": "code",
   "execution_count": null,
   "metadata": {},
   "outputs": [],
   "source": []
  }
 ],
 "metadata": {
  "kernelspec": {
   "display_name": "Python 3",
   "language": "python",
   "name": "python3"
  },
  "language_info": {
   "codemirror_mode": {
    "name": "ipython",
    "version": 3
   },
   "file_extension": ".py",
   "mimetype": "text/x-python",
   "name": "python",
   "nbconvert_exporter": "python",
   "pygments_lexer": "ipython3",
   "version": "3.7.3"
  },
  "toc": {
   "base_numbering": 1,
   "nav_menu": {},
   "number_sections": true,
   "sideBar": true,
   "skip_h1_title": false,
   "title_cell": "Table of Contents",
   "title_sidebar": "Contents",
   "toc_cell": false,
   "toc_position": {
    "height": "calc(100% - 180px)",
    "left": "10px",
    "top": "150px",
    "width": "553.9130249023438px"
   },
   "toc_section_display": true,
   "toc_window_display": true
  }
 },
 "nbformat": 4,
 "nbformat_minor": 4
}
